{
 "cells": [
  {
   "cell_type": "code",
   "execution_count": 1,
   "id": "c9274b85",
   "metadata": {},
   "outputs": [
    {
     "ename": "ModuleNotFoundError",
     "evalue": "No module named 'treelib'",
     "output_type": "error",
     "traceback": [
      "\u001b[1;31m---------------------------------------------------------------------------\u001b[0m",
      "\u001b[1;31mModuleNotFoundError\u001b[0m                       Traceback (most recent call last)",
      "Cell \u001b[1;32mIn [1], line 1\u001b[0m\n\u001b[1;32m----> 1\u001b[0m \u001b[38;5;28;01mfrom\u001b[39;00m \u001b[38;5;21;01mtreelib\u001b[39;00m \u001b[38;5;28;01mimport\u001b[39;00m Node, Tree\n\u001b[0;32m      3\u001b[0m dict_ \u001b[38;5;241m=\u001b[39m {\u001b[38;5;124m\"\u001b[39m\u001b[38;5;124mA\u001b[39m\u001b[38;5;124m\"\u001b[39m: {\u001b[38;5;124m'\u001b[39m\u001b[38;5;124mparent\u001b[39m\u001b[38;5;124m'\u001b[39m: \u001b[38;5;124m\"\u001b[39m\u001b[38;5;124mX\u001b[39m\u001b[38;5;124m\"\u001b[39m}, \u001b[38;5;124m\"\u001b[39m\u001b[38;5;124mX\u001b[39m\u001b[38;5;124m\"\u001b[39m: {\u001b[38;5;124m'\u001b[39m\u001b[38;5;124mparent\u001b[39m\u001b[38;5;124m'\u001b[39m: \u001b[38;5;28;01mNone\u001b[39;00m}, \u001b[38;5;124m\"\u001b[39m\u001b[38;5;124mY\u001b[39m\u001b[38;5;124m\"\u001b[39m: {\u001b[38;5;124m'\u001b[39m\u001b[38;5;124mparent\u001b[39m\u001b[38;5;124m'\u001b[39m: \u001b[38;5;28;01mNone\u001b[39;00m}}\n\u001b[0;32m      5\u001b[0m added \u001b[38;5;241m=\u001b[39m \u001b[38;5;28mset\u001b[39m()\n",
      "\u001b[1;31mModuleNotFoundError\u001b[0m: No module named 'treelib'"
     ]
    }
   ],
   "source": [
    "from treelib import Node, Tree\n",
    "\n",
    "dict_ = {\"A\": {'parent': \"X\"}, \"X\": {'parent': None}, \"Y\": {'parent': None}}\n",
    "\n",
    "added = set()\n",
    "tree = Tree()\n",
    "while dict_:\n",
    "\n",
    "    for key, value in dict_.items():\n",
    "        if value['parent'] in added:\n",
    "            tree.create_node(key, key, parent=value['parent'])\n",
    "            added.add(key)\n",
    "            dict_.pop(key)\n",
    "            break\n",
    "        elif value['parent'] is None:\n",
    "            tree.create_node(key, key)\n",
    "            added.add(key)\n",
    "            dict_.pop(key)\n",
    "            break\n",
    "\n",
    "tree.show()"
   ]
  },
  {
   "cell_type": "code",
   "execution_count": 2,
   "id": "13fa24e5",
   "metadata": {},
   "outputs": [
    {
     "name": "stdout",
     "output_type": "stream",
     "text": [
      "Collecting treelibNote: you may need to restart the kernel to use updated packages.\n"
     ]
    },
    {
     "name": "stderr",
     "output_type": "stream",
     "text": [
      "  DEPRECATION: future is being installed using the legacy 'setup.py install' method, because it does not have a 'pyproject.toml' and the 'wheel' package is not installed. pip 23.1 will enforce this behaviour change. A possible replacement is to enable the '--use-pep517' option. Discussion can be found at https://github.com/pypa/pip/issues/8559\n",
      "  DEPRECATION: treelib is being installed using the legacy 'setup.py install' method, because it does not have a 'pyproject.toml' and the 'wheel' package is not installed. pip 23.1 will enforce this behaviour change. A possible replacement is to enable the '--use-pep517' option. Discussion can be found at https://github.com/pypa/pip/issues/8559\n",
      "\n",
      "[notice] A new release of pip available: 22.3 -> 22.3.1\n",
      "[notice] To update, run: python.exe -m pip install --upgrade pip\n"
     ]
    },
    {
     "name": "stdout",
     "output_type": "stream",
     "text": [
      "\n",
      "  Downloading treelib-1.6.1.tar.gz (24 kB)\n",
      "  Preparing metadata (setup.py): started\n",
      "  Preparing metadata (setup.py): finished with status 'done'\n",
      "Collecting future\n",
      "  Downloading future-0.18.2.tar.gz (829 kB)\n",
      "     -------------------------------------- 829.2/829.2 kB 2.2 MB/s eta 0:00:00\n",
      "  Preparing metadata (setup.py): started\n",
      "  Preparing metadata (setup.py): finished with status 'done'\n",
      "Installing collected packages: future, treelib\n",
      "  Running setup.py install for future: started\n",
      "  Running setup.py install for future: finished with status 'done'\n",
      "  Running setup.py install for treelib: started\n",
      "  Running setup.py install for treelib: finished with status 'done'\n",
      "Successfully installed future-0.18.2 treelib-1.6.1\n"
     ]
    }
   ],
   "source": [
    "pip install treelib\n"
   ]
  },
  {
   "cell_type": "code",
   "execution_count": 8,
   "id": "994db862",
   "metadata": {},
   "outputs": [],
   "source": [
    "\n",
    "\n",
    "dict_ = {\"A\": {'parent': \"X\"}, \n",
    "         \"X\": {'parent': None}, \n",
    "         \"Y\": {'parent': None},\n",
    "         \"B\": {'parent': \"Y\"},\n",
    "         \"F\": {'parent': \"B\"},\n",
    "         \"D\": {'parent': \"A\"},\n",
    "         \"C\": {'parent': \"A\"},\n",
    "         \"E\": {'parent': \"C\"}}"
   ]
  },
  {
   "cell_type": "code",
   "execution_count": 9,
   "id": "794f22d3",
   "metadata": {},
   "outputs": [
    {
     "name": "stdout",
     "output_type": "stream",
     "text": [
      "['A', 'X', 'Y', 'B', 'F', 'D', 'C', 'E']\n"
     ]
    }
   ],
   "source": [
    "keysList = list(dict_.keys())\n",
    "print(keysList)\n",
    "CX = list(dict_.)"
   ]
  },
  {
   "cell_type": "code",
   "execution_count": 12,
   "id": "5f77c114",
   "metadata": {},
   "outputs": [
    {
     "ename": "TypeError",
     "evalue": "string indices must be integers, not 'str'",
     "output_type": "error",
     "traceback": [
      "\u001b[1;31m---------------------------------------------------------------------------\u001b[0m",
      "\u001b[1;31mTypeError\u001b[0m                                 Traceback (most recent call last)",
      "Cell \u001b[1;32mIn [12], line 3\u001b[0m\n\u001b[0;32m      1\u001b[0m res \u001b[38;5;241m=\u001b[39m \u001b[38;5;28;01mNone\u001b[39;00m\n\u001b[0;32m      2\u001b[0m \u001b[38;5;28;01mfor\u001b[39;00m sub \u001b[38;5;129;01min\u001b[39;00m keysList:\n\u001b[1;32m----> 3\u001b[0m     \u001b[38;5;28;01mif\u001b[39;00m \u001b[43msub\u001b[49m\u001b[43m[\u001b[49m\u001b[38;5;124;43m'\u001b[39;49m\u001b[38;5;124;43mparent\u001b[39;49m\u001b[38;5;124;43m'\u001b[39;49m\u001b[43m]\u001b[49m \u001b[38;5;241m==\u001b[39m \u001b[38;5;124m\"\u001b[39m\u001b[38;5;124mA\u001b[39m\u001b[38;5;124m\"\u001b[39m:\n\u001b[0;32m      4\u001b[0m         res \u001b[38;5;241m=\u001b[39m sub\n\u001b[0;32m      5\u001b[0m         \u001b[38;5;28;01mbreak\u001b[39;00m\n",
      "\u001b[1;31mTypeError\u001b[0m: string indices must be integers, not 'str'"
     ]
    }
   ],
   "source": [
    "res = None\n",
    "for sub in keysList:\n",
    "    if sub['parent'] == \"A\":\n",
    "        res = sub\n",
    "        break\n",
    " \n",
    "# printing result\n",
    "print(\"The filtered dictionary value is : \" + str(res))"
   ]
  },
  {
   "cell_type": "code",
   "execution_count": 13,
   "id": "635ddd35",
   "metadata": {},
   "outputs": [
    {
     "name": "stdout",
     "output_type": "stream",
     "text": [
      "The filtered dictionary value is : {'Course': 'Python', 'Author': 'Mark'}\n"
     ]
    }
   ],
   "source": [
    "test_list = [\n",
    "    {'Course': \"C++\", 'Author': \"Jerry\"},\n",
    "    {'Course': \"Python\", 'Author': \"Mark\"},\n",
    "    {'Course': \"Java\", 'Author': \"Paul\"}]\n",
    " \n",
    "# Find dictionary matching value in list\n",
    "res = None\n",
    "for sub in test_list:\n",
    "    if sub['Author'] == \"Mark\":\n",
    "        res = sub\n",
    "        break\n",
    " \n",
    "# printing result\n",
    "print(\"The filtered dictionary value is : \" + str(res))"
   ]
  },
  {
   "cell_type": "code",
   "execution_count": null,
   "id": "1b529b05",
   "metadata": {},
   "outputs": [],
   "source": []
  }
 ],
 "metadata": {
  "kernelspec": {
   "display_name": "Python 3 (ipykernel)",
   "language": "python",
   "name": "python3"
  },
  "language_info": {
   "codemirror_mode": {
    "name": "ipython",
    "version": 3
   },
   "file_extension": ".py",
   "mimetype": "text/x-python",
   "name": "python",
   "nbconvert_exporter": "python",
   "pygments_lexer": "ipython3",
   "version": "3.11.0"
  }
 },
 "nbformat": 4,
 "nbformat_minor": 5
}
