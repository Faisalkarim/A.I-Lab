{
 "cells": [
  {
   "cell_type": "code",
   "execution_count": 4,
   "id": "0ce3d20f",
   "metadata": {},
   "outputs": [
    {
     "name": "stdout",
     "output_type": "stream",
     "text": [
      "(Node('/Udo/Dan/Jet'), Node('/Udo/Dan/Jan'), Node('/Udo/Dan/Joe'))\n"
     ]
    }
   ],
   "source": [
    "from anytree import Node, RenderTree\n",
    "\n",
    "udo = Node(\"Udo\")\n",
    "marc = Node(\"Marc\", parent=udo)\n",
    "lian = Node(\"Lian\", parent=marc)\n",
    "dan = Node(\"Dan\", parent=udo)\n",
    "jet = Node(\"Jet\", parent=dan)\n",
    "jan = Node(\"Jan\", parent=dan)\n",
    "joe = Node(\"Joe\", parent=dan)\n",
    "\n",
    "\n",
    "\n",
    "print(dan.children)\n"
   ]
  },
  {
   "cell_type": "code",
   "execution_count": null,
   "id": "637952e7",
   "metadata": {},
   "outputs": [],
   "source": []
  }
 ],
 "metadata": {
  "kernelspec": {
   "display_name": "Python 3 (ipykernel)",
   "language": "python",
   "name": "python3"
  },
  "language_info": {
   "codemirror_mode": {
    "name": "ipython",
    "version": 3
   },
   "file_extension": ".py",
   "mimetype": "text/x-python",
   "name": "python",
   "nbconvert_exporter": "python",
   "pygments_lexer": "ipython3",
   "version": "3.11.0"
  }
 },
 "nbformat": 4,
 "nbformat_minor": 5
}
