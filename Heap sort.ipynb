{
 "cells": [
  {
   "cell_type": "code",
   "execution_count": null,
   "metadata": {},
   "outputs": [],
   "source": [
    "def heapify(arr, n, i):\n",
    "  # Find the largest element among the root and its children\n",
    "  largest = i\n",
    "  left = 2 * i + 1\n",
    "  right = 2 * i + 2\n",
    "  if left < n and arr[left] > arr[largest]:\n",
    "    largest = left\n",
    "  if right < n and arr[right] > arr[largest]:\n",
    "    largest = right\n",
    "  \n",
    "  # Swap the root with the largest element if necessary\n",
    "  if largest != i:\n",
    "    arr[i], arr[largest] = arr[largest], arr[i]\n",
    "    \n",
    "    # Heapify the sub-tree\n",
    "    heapify(arr, n, largest)\n",
    "\n",
    "def heap_sort(arr):\n",
    "  # Build the heap\n",
    "  n = len(arr)\n",
    "  for i in range(n // 2 - 1, -1, -1):\n",
    "    heapify(arr, n, i)\n",
    "  \n",
    "  # Extract the elements from the heap one by one\n",
    "  for i in range(n - 1, 0, -1):\n",
    "    arr[i], arr[0] = arr[0], arr[i]\n",
    "    heapify(arr, i, 0)\n",
    "\n",
    "# Example usage\n",
    "arr = [5, 2, 9, 1, 3, 8, 4, 7, 6]\n",
    "heap_sort(arr)\n",
    "print(arr)  # [1, 2, 3, 4, 5, 6, 7, 8, 9]\n"
   ]
  }
 ],
 "metadata": {
  "kernelspec": {
   "display_name": "Python 3",
   "language": "python",
   "name": "python3"
  },
  "language_info": {
   "name": "python",
   "version": "3.11.0 (main, Oct 24 2022, 18:26:48) [MSC v.1933 64 bit (AMD64)]"
  },
  "orig_nbformat": 4,
  "vscode": {
   "interpreter": {
    "hash": "d417a21d97a2e6b8832d21dc44f5cbe4be6e18325f874a8bb8484565b928cd54"
   }
  }
 },
 "nbformat": 4,
 "nbformat_minor": 2
}
