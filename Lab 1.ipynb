{
 "cells": [
  {
   "cell_type": "code",
   "execution_count": 3,
   "id": "1e3cab08",
   "metadata": {
    "scrolled": true
   },
   "outputs": [
    {
     "name": "stdout",
     "output_type": "stream",
     "text": [
      "Requirement already satisfied: pandas in c:\\users\\user\\appdata\\local\\programs\\python\\python311\\lib\\site-packages (1.5.1)\n",
      "Requirement already satisfied: python-dateutil>=2.8.1 in c:\\users\\user\\appdata\\local\\programs\\python\\python311\\lib\\site-packages (from pandas) (2.8.2)\n",
      "Requirement already satisfied: pytz>=2020.1 in c:\\users\\user\\appdata\\local\\programs\\python\\python311\\lib\\site-packages (from pandas) (2022.6)\n",
      "Requirement already satisfied: numpy>=1.21.0 in c:\\users\\user\\appdata\\local\\programs\\python\\python311\\lib\\site-packages (from pandas) (1.23.4)\n",
      "Requirement already satisfied: six>=1.5 in c:\\users\\user\\appdata\\local\\programs\\python\\python311\\lib\\site-packages (from python-dateutil>=2.8.1->pandas) (1.16.0)\n"
     ]
    },
    {
     "name": "stderr",
     "output_type": "stream",
     "text": [
      "\n",
      "[notice] A new release of pip available: 22.3 -> 22.3.1\n",
      "[notice] To update, run: python.exe -m pip install --upgrade pip\n"
     ]
    }
   ],
   "source": [
    "!pip install pandas"
   ]
  },
  {
   "cell_type": "code",
   "execution_count": 4,
   "id": "08964dac",
   "metadata": {},
   "outputs": [],
   "source": [
    "# Find Entropy Function\n",
    "\n",
    "import numpy as np\n",
    "def find_entropy(df):\n",
    "  Class = df.keys()[-1]\n",
    "  values = df[Class].unique()\n",
    "  entropy = 0\n",
    "  for value in values:\n",
    "    prob = df[Class].value_counts()[value]/len(df[Class])\n",
    "    entropy += -prob * np.log2(prob)\n",
    "  return np.float(entropy)"
   ]
  },
  {
   "cell_type": "code",
   "execution_count": 5,
   "id": "94c58729",
   "metadata": {},
   "outputs": [],
   "source": [
    "# Find entropy attribute\n",
    "def find_entropy_attribute(df, attribute):\n",
    "  Class = df.keys()[-1]\n",
    "  target_values = df[Class].unique()\n",
    "  attribute_values = df[attribute].unique()\n",
    "  avg_entropy = 0\n",
    "  for value in attribute_values:\n",
    "    entropy = 0\n",
    "    for value1 in target_values:\n",
    "      num = len(df[attribute][df[attribute] == value][df[Class] == value1])\n",
    "      den = len(df[attribute][df[attribute] == value])\n",
    "      prob = num/den\n",
    "      entropy += -prob * np.log2(prob + 0.000001)\n",
    "    avg_entropy += (den/len(df))*entropy\n",
    "  return np.float(avg_entropy)"
   ]
  },
  {
   "cell_type": "code",
   "execution_count": null,
   "id": "2aeae111",
   "metadata": {},
   "outputs": [],
   "source": []
  },
  {
   "cell_type": "code",
   "execution_count": 6,
   "id": "b2bae6e9",
   "metadata": {},
   "outputs": [],
   "source": [
    "# Find Winner\n",
    "def find_winner(df):\n",
    "  IG = []\n",
    "  for key in df.keys()[:-1]:\n",
    "    IG.append(find_entropy(df) - find_entropy_attribute(df, key))\n",
    "  return df.keys()[:-1][np.argmax(IG)]"
   ]
  },
  {
   "cell_type": "code",
   "execution_count": 7,
   "id": "100c27df",
   "metadata": {},
   "outputs": [],
   "source": [
    "def get_subtable(df, attribute, value):\n",
    "  return df[df[attribute] == value].reset_index(drop = True)"
   ]
  },
  {
   "cell_type": "code",
   "execution_count": 8,
   "id": "6ecbd885",
   "metadata": {},
   "outputs": [],
   "source": [
    "def buildtree(df, tree = None):\n",
    "  node = find_winner(df)\n",
    "  attvalue = np.unique(df[node])\n",
    "  Class = df.keys()[-1]\n",
    "  if tree is None:\n",
    "    tree = {}\n",
    "    tree[node] = {}\n",
    "  for value in attvalue:\n",
    "    subtable = get_subtable(df,node,value)\n",
    "    Clvalue, counts = np.unique(subtable[Class], return_counts = True)\n",
    "    if len(counts) == 1:\n",
    "      tree[node][value] = Clvalue[0]\n",
    "    else:\n",
    "      tree[node][value] = buildtree(subtable)\n",
    "  return tree"
   ]
  },
  {
   "cell_type": "code",
   "execution_count": 9,
   "id": "39ac4232",
   "metadata": {},
   "outputs": [],
   "source": [
    "import pandas as pd\n",
    "df = pd.read_csv('dataset.csv')"
   ]
  },
  {
   "cell_type": "code",
   "execution_count": 10,
   "id": "d9cf19da",
   "metadata": {
    "scrolled": true
   },
   "outputs": [
    {
     "name": "stderr",
     "output_type": "stream",
     "text": [
      "C:\\Users\\USER\\AppData\\Local\\Temp\\ipykernel_15212\\1294429473.py:11: DeprecationWarning: `np.float` is a deprecated alias for the builtin `float`. To silence this warning, use `float` by itself. Doing this will not modify any behavior and is safe. If you specifically wanted the numpy scalar type, use `np.float64` here.\n",
      "Deprecated in NumPy 1.20; for more details and guidance: https://numpy.org/devdocs/release/1.20.0-notes.html#deprecations\n",
      "  return np.float(entropy)\n",
      "C:\\Users\\USER\\AppData\\Local\\Temp\\ipykernel_15212\\661615569.py:15: DeprecationWarning: `np.float` is a deprecated alias for the builtin `float`. To silence this warning, use `float` by itself. Doing this will not modify any behavior and is safe. If you specifically wanted the numpy scalar type, use `np.float64` here.\n",
      "Deprecated in NumPy 1.20; for more details and guidance: https://numpy.org/devdocs/release/1.20.0-notes.html#deprecations\n",
      "  return np.float(avg_entropy)\n",
      "C:\\Users\\USER\\AppData\\Local\\Temp\\ipykernel_15212\\1294429473.py:11: DeprecationWarning: `np.float` is a deprecated alias for the builtin `float`. To silence this warning, use `float` by itself. Doing this will not modify any behavior and is safe. If you specifically wanted the numpy scalar type, use `np.float64` here.\n",
      "Deprecated in NumPy 1.20; for more details and guidance: https://numpy.org/devdocs/release/1.20.0-notes.html#deprecations\n",
      "  return np.float(entropy)\n",
      "C:\\Users\\USER\\AppData\\Local\\Temp\\ipykernel_15212\\661615569.py:15: DeprecationWarning: `np.float` is a deprecated alias for the builtin `float`. To silence this warning, use `float` by itself. Doing this will not modify any behavior and is safe. If you specifically wanted the numpy scalar type, use `np.float64` here.\n",
      "Deprecated in NumPy 1.20; for more details and guidance: https://numpy.org/devdocs/release/1.20.0-notes.html#deprecations\n",
      "  return np.float(avg_entropy)\n",
      "C:\\Users\\USER\\AppData\\Local\\Temp\\ipykernel_15212\\1294429473.py:11: DeprecationWarning: `np.float` is a deprecated alias for the builtin `float`. To silence this warning, use `float` by itself. Doing this will not modify any behavior and is safe. If you specifically wanted the numpy scalar type, use `np.float64` here.\n",
      "Deprecated in NumPy 1.20; for more details and guidance: https://numpy.org/devdocs/release/1.20.0-notes.html#deprecations\n",
      "  return np.float(entropy)\n",
      "C:\\Users\\USER\\AppData\\Local\\Temp\\ipykernel_15212\\661615569.py:15: DeprecationWarning: `np.float` is a deprecated alias for the builtin `float`. To silence this warning, use `float` by itself. Doing this will not modify any behavior and is safe. If you specifically wanted the numpy scalar type, use `np.float64` here.\n",
      "Deprecated in NumPy 1.20; for more details and guidance: https://numpy.org/devdocs/release/1.20.0-notes.html#deprecations\n",
      "  return np.float(avg_entropy)\n",
      "C:\\Users\\USER\\AppData\\Local\\Temp\\ipykernel_15212\\1294429473.py:11: DeprecationWarning: `np.float` is a deprecated alias for the builtin `float`. To silence this warning, use `float` by itself. Doing this will not modify any behavior and is safe. If you specifically wanted the numpy scalar type, use `np.float64` here.\n",
      "Deprecated in NumPy 1.20; for more details and guidance: https://numpy.org/devdocs/release/1.20.0-notes.html#deprecations\n",
      "  return np.float(entropy)\n",
      "C:\\Users\\USER\\AppData\\Local\\Temp\\ipykernel_15212\\661615569.py:15: DeprecationWarning: `np.float` is a deprecated alias for the builtin `float`. To silence this warning, use `float` by itself. Doing this will not modify any behavior and is safe. If you specifically wanted the numpy scalar type, use `np.float64` here.\n",
      "Deprecated in NumPy 1.20; for more details and guidance: https://numpy.org/devdocs/release/1.20.0-notes.html#deprecations\n",
      "  return np.float(avg_entropy)\n",
      "C:\\Users\\USER\\AppData\\Local\\Temp\\ipykernel_15212\\1294429473.py:11: DeprecationWarning: `np.float` is a deprecated alias for the builtin `float`. To silence this warning, use `float` by itself. Doing this will not modify any behavior and is safe. If you specifically wanted the numpy scalar type, use `np.float64` here.\n",
      "Deprecated in NumPy 1.20; for more details and guidance: https://numpy.org/devdocs/release/1.20.0-notes.html#deprecations\n",
      "  return np.float(entropy)\n",
      "C:\\Users\\USER\\AppData\\Local\\Temp\\ipykernel_15212\\661615569.py:15: DeprecationWarning: `np.float` is a deprecated alias for the builtin `float`. To silence this warning, use `float` by itself. Doing this will not modify any behavior and is safe. If you specifically wanted the numpy scalar type, use `np.float64` here.\n",
      "Deprecated in NumPy 1.20; for more details and guidance: https://numpy.org/devdocs/release/1.20.0-notes.html#deprecations\n",
      "  return np.float(avg_entropy)\n",
      "C:\\Users\\USER\\AppData\\Local\\Temp\\ipykernel_15212\\1294429473.py:11: DeprecationWarning: `np.float` is a deprecated alias for the builtin `float`. To silence this warning, use `float` by itself. Doing this will not modify any behavior and is safe. If you specifically wanted the numpy scalar type, use `np.float64` here.\n",
      "Deprecated in NumPy 1.20; for more details and guidance: https://numpy.org/devdocs/release/1.20.0-notes.html#deprecations\n",
      "  return np.float(entropy)\n",
      "C:\\Users\\USER\\AppData\\Local\\Temp\\ipykernel_15212\\661615569.py:15: DeprecationWarning: `np.float` is a deprecated alias for the builtin `float`. To silence this warning, use `float` by itself. Doing this will not modify any behavior and is safe. If you specifically wanted the numpy scalar type, use `np.float64` here.\n",
      "Deprecated in NumPy 1.20; for more details and guidance: https://numpy.org/devdocs/release/1.20.0-notes.html#deprecations\n",
      "  return np.float(avg_entropy)\n",
      "C:\\Users\\USER\\AppData\\Local\\Temp\\ipykernel_15212\\1294429473.py:11: DeprecationWarning: `np.float` is a deprecated alias for the builtin `float`. To silence this warning, use `float` by itself. Doing this will not modify any behavior and is safe. If you specifically wanted the numpy scalar type, use `np.float64` here.\n",
      "Deprecated in NumPy 1.20; for more details and guidance: https://numpy.org/devdocs/release/1.20.0-notes.html#deprecations\n",
      "  return np.float(entropy)\n",
      "C:\\Users\\USER\\AppData\\Local\\Temp\\ipykernel_15212\\661615569.py:15: DeprecationWarning: `np.float` is a deprecated alias for the builtin `float`. To silence this warning, use `float` by itself. Doing this will not modify any behavior and is safe. If you specifically wanted the numpy scalar type, use `np.float64` here.\n",
      "Deprecated in NumPy 1.20; for more details and guidance: https://numpy.org/devdocs/release/1.20.0-notes.html#deprecations\n",
      "  return np.float(avg_entropy)\n",
      "C:\\Users\\USER\\AppData\\Local\\Temp\\ipykernel_15212\\1294429473.py:11: DeprecationWarning: `np.float` is a deprecated alias for the builtin `float`. To silence this warning, use `float` by itself. Doing this will not modify any behavior and is safe. If you specifically wanted the numpy scalar type, use `np.float64` here.\n",
      "Deprecated in NumPy 1.20; for more details and guidance: https://numpy.org/devdocs/release/1.20.0-notes.html#deprecations\n",
      "  return np.float(entropy)\n",
      "C:\\Users\\USER\\AppData\\Local\\Temp\\ipykernel_15212\\661615569.py:15: DeprecationWarning: `np.float` is a deprecated alias for the builtin `float`. To silence this warning, use `float` by itself. Doing this will not modify any behavior and is safe. If you specifically wanted the numpy scalar type, use `np.float64` here.\n",
      "Deprecated in NumPy 1.20; for more details and guidance: https://numpy.org/devdocs/release/1.20.0-notes.html#deprecations\n",
      "  return np.float(avg_entropy)\n",
      "C:\\Users\\USER\\AppData\\Local\\Temp\\ipykernel_15212\\1294429473.py:11: DeprecationWarning: `np.float` is a deprecated alias for the builtin `float`. To silence this warning, use `float` by itself. Doing this will not modify any behavior and is safe. If you specifically wanted the numpy scalar type, use `np.float64` here.\n",
      "Deprecated in NumPy 1.20; for more details and guidance: https://numpy.org/devdocs/release/1.20.0-notes.html#deprecations\n",
      "  return np.float(entropy)\n",
      "C:\\Users\\USER\\AppData\\Local\\Temp\\ipykernel_15212\\661615569.py:15: DeprecationWarning: `np.float` is a deprecated alias for the builtin `float`. To silence this warning, use `float` by itself. Doing this will not modify any behavior and is safe. If you specifically wanted the numpy scalar type, use `np.float64` here.\n",
      "Deprecated in NumPy 1.20; for more details and guidance: https://numpy.org/devdocs/release/1.20.0-notes.html#deprecations\n",
      "  return np.float(avg_entropy)\n",
      "C:\\Users\\USER\\AppData\\Local\\Temp\\ipykernel_15212\\1294429473.py:11: DeprecationWarning: `np.float` is a deprecated alias for the builtin `float`. To silence this warning, use `float` by itself. Doing this will not modify any behavior and is safe. If you specifically wanted the numpy scalar type, use `np.float64` here.\n",
      "Deprecated in NumPy 1.20; for more details and guidance: https://numpy.org/devdocs/release/1.20.0-notes.html#deprecations\n",
      "  return np.float(entropy)\n",
      "C:\\Users\\USER\\AppData\\Local\\Temp\\ipykernel_15212\\661615569.py:15: DeprecationWarning: `np.float` is a deprecated alias for the builtin `float`. To silence this warning, use `float` by itself. Doing this will not modify any behavior and is safe. If you specifically wanted the numpy scalar type, use `np.float64` here.\n",
      "Deprecated in NumPy 1.20; for more details and guidance: https://numpy.org/devdocs/release/1.20.0-notes.html#deprecations\n",
      "  return np.float(avg_entropy)\n",
      "C:\\Users\\USER\\AppData\\Local\\Temp\\ipykernel_15212\\1294429473.py:11: DeprecationWarning: `np.float` is a deprecated alias for the builtin `float`. To silence this warning, use `float` by itself. Doing this will not modify any behavior and is safe. If you specifically wanted the numpy scalar type, use `np.float64` here.\n",
      "Deprecated in NumPy 1.20; for more details and guidance: https://numpy.org/devdocs/release/1.20.0-notes.html#deprecations\n",
      "  return np.float(entropy)\n",
      "C:\\Users\\USER\\AppData\\Local\\Temp\\ipykernel_15212\\661615569.py:15: DeprecationWarning: `np.float` is a deprecated alias for the builtin `float`. To silence this warning, use `float` by itself. Doing this will not modify any behavior and is safe. If you specifically wanted the numpy scalar type, use `np.float64` here.\n",
      "Deprecated in NumPy 1.20; for more details and guidance: https://numpy.org/devdocs/release/1.20.0-notes.html#deprecations\n",
      "  return np.float(avg_entropy)\n",
      "C:\\Users\\USER\\AppData\\Local\\Temp\\ipykernel_15212\\1294429473.py:11: DeprecationWarning: `np.float` is a deprecated alias for the builtin `float`. To silence this warning, use `float` by itself. Doing this will not modify any behavior and is safe. If you specifically wanted the numpy scalar type, use `np.float64` here.\n",
      "Deprecated in NumPy 1.20; for more details and guidance: https://numpy.org/devdocs/release/1.20.0-notes.html#deprecations\n",
      "  return np.float(entropy)\n",
      "C:\\Users\\USER\\AppData\\Local\\Temp\\ipykernel_15212\\661615569.py:15: DeprecationWarning: `np.float` is a deprecated alias for the builtin `float`. To silence this warning, use `float` by itself. Doing this will not modify any behavior and is safe. If you specifically wanted the numpy scalar type, use `np.float64` here.\n",
      "Deprecated in NumPy 1.20; for more details and guidance: https://numpy.org/devdocs/release/1.20.0-notes.html#deprecations\n",
      "  return np.float(avg_entropy)\n"
     ]
    }
   ],
   "source": [
    "tree = buildtree(df)"
   ]
  },
  {
   "cell_type": "code",
   "execution_count": 17,
   "id": "19a4abf6",
   "metadata": {
    "scrolled": true
   },
   "outputs": [
    {
     "data": {
      "text/plain": [
       "{'Age': {'18-35': 'No',\n",
       "  '36-55': {'Marital Status': {'Married': 'No', 'Single': 'Yes'}},\n",
       "  '<18': {'Income': {'High': 'No', 'Low': 'Yes'}},\n",
       "  '>55': 'Yes'}}"
      ]
     },
     "execution_count": 17,
     "metadata": {},
     "output_type": "execute_result"
    }
   ],
   "source": [
    "tree"
   ]
  },
  {
   "cell_type": "code",
   "execution_count": 18,
   "id": "92cef24b",
   "metadata": {},
   "outputs": [
    {
     "name": "stdout",
     "output_type": "stream",
     "text": [
      "Requirement already satisfied: graphviz in c:\\users\\user\\appdata\\local\\programs\\python\\python311\\lib\\site-packages (0.20.1)\n"
     ]
    },
    {
     "name": "stderr",
     "output_type": "stream",
     "text": [
      "\n",
      "[notice] A new release of pip available: 22.3 -> 22.3.1\n",
      "[notice] To update, run: python.exe -m pip install --upgrade pip\n"
     ]
    }
   ],
   "source": []
  },
  {
   "cell_type": "code",
   "execution_count": 20,
   "id": "42e482e7",
   "metadata": {},
   "outputs": [
    {
     "ename": "SyntaxError",
     "evalue": "invalid syntax (613460445.py, line 1)",
     "output_type": "error",
     "traceback": [
      "\u001b[1;36m  Cell \u001b[1;32mIn [20], line 1\u001b[1;36m\u001b[0m\n\u001b[1;33m    pip install graphviz\u001b[0m\n\u001b[1;37m        ^\u001b[0m\n\u001b[1;31mSyntaxError\u001b[0m\u001b[1;31m:\u001b[0m invalid syntax\n"
     ]
    }
   ],
   "source": [
    "pip install graphviz\n",
    "import graphviz\n",
    "graph = graphviz.Source(tree,format=\"png\")"
   ]
  },
  {
   "cell_type": "code",
   "execution_count": 22,
   "id": "1f15860e",
   "metadata": {},
   "outputs": [],
   "source": []
  },
  {
   "cell_type": "code",
   "execution_count": null,
   "id": "1d98ccf5",
   "metadata": {},
   "outputs": [],
   "source": []
  }
 ],
 "metadata": {
  "kernelspec": {
   "display_name": "Python 3 (ipykernel)",
   "language": "python",
   "name": "python3"
  },
  "language_info": {
   "codemirror_mode": {
    "name": "ipython",
    "version": 3
   },
   "file_extension": ".py",
   "mimetype": "text/x-python",
   "name": "python",
   "nbconvert_exporter": "python",
   "pygments_lexer": "ipython3",
   "version": "3.11.0"
  }
 },
 "nbformat": 4,
 "nbformat_minor": 5
}
