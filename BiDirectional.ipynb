{
 "cells": [
  {
   "cell_type": "code",
   "execution_count": 1,
   "metadata": {},
   "outputs": [
    {
     "name": "stdout",
     "output_type": "stream",
     "text": [
      "['A', 'C', 'C', 'F']\n"
     ]
    }
   ],
   "source": [
    "def bidirectional_search(graph, start, end):\n",
    "  # Create two sets for storing visited nodes\n",
    "  visited_start = set()\n",
    "  visited_end = set()\n",
    "  \n",
    "  # Create two queues for storing the paths\n",
    "  queue_start = [(start, [start])]\n",
    "  queue_end = [(end, [end])]\n",
    "  \n",
    "  # Loop until one of the queues is empty\n",
    "  while queue_start and queue_end:\n",
    "    # Get the first node from the start queue\n",
    "    (vertex_start, path_start) = queue_start.pop(0)\n",
    "    \n",
    "    # Check if this node has been visited by the other queue\n",
    "    if vertex_start in visited_end:\n",
    "      return path_start + list(reversed(path_end))\n",
    "    \n",
    "    # Mark the node as visited and add its neighbors to the queue\n",
    "    visited_start.add(vertex_start)\n",
    "    for neighbor in graph[vertex_start]:\n",
    "      if neighbor not in visited_start:\n",
    "        queue_start.append((neighbor, path_start + [neighbor]))\n",
    "    \n",
    "    # Get the first node from the end queue\n",
    "    (vertex_end, path_end) = queue_end.pop(0)\n",
    "    \n",
    "    # Check if this node has been visited by the other queue\n",
    "    if vertex_end in visited_start:\n",
    "      return path_end + list(reversed(path_start))\n",
    "    \n",
    "    # Mark the node as visited and add its neighbors to the queue\n",
    "    visited_end.add(vertex_end)\n",
    "    for neighbor in graph[vertex_end]:\n",
    "      if neighbor not in visited_end:\n",
    "        queue_end.append((neighbor, path_end + [neighbor]))\n",
    "  return None\n",
    "\n",
    "# Example usage\n",
    "graph = {'A': ['B', 'C'], 'B': ['A', 'D', 'E'], 'C': ['A', 'F'], 'D': ['B'], 'E': ['B', 'F'], 'F': ['C', 'E']}\n",
    "print(bidirectional_search(graph, 'A', 'F'))  # ['A', 'C', 'F']\n"
   ]
  }
 ],
 "metadata": {
  "kernelspec": {
   "display_name": "Python 3",
   "language": "python",
   "name": "python3"
  },
  "language_info": {
   "codemirror_mode": {
    "name": "ipython",
    "version": 3
   },
   "file_extension": ".py",
   "mimetype": "text/x-python",
   "name": "python",
   "nbconvert_exporter": "python",
   "pygments_lexer": "ipython3",
   "version": "3.11.0"
  },
  "orig_nbformat": 4,
  "vscode": {
   "interpreter": {
    "hash": "d417a21d97a2e6b8832d21dc44f5cbe4be6e18325f874a8bb8484565b928cd54"
   }
  }
 },
 "nbformat": 4,
 "nbformat_minor": 2
}
