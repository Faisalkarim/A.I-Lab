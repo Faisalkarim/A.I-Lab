{
 "cells": [
  {
   "cell_type": "code",
   "execution_count": null,
   "metadata": {},
   "outputs": [],
   "source": [
    "#string \n",
    "a= 'Hello'\n",
    "b=\"Hello\"\n",
    "#same\n",
    "\n",
    "#bool\n",
    "True\n",
    "False\n",
    "#int\n",
    "#float\n"
   ]
  },
  {
   "cell_type": "code",
   "execution_count": 7,
   "metadata": {},
   "outputs": [
    {
     "name": "stdout",
     "output_type": "stream",
     "text": [
      "Hiiii\n",
      "4.5\n",
      "Hello My Name\n",
      "Hello My Name|hello\n"
     ]
    }
   ],
   "source": [
    "#output\n",
    "print('Hiiii')\n",
    "print(4.5)\n",
    "#many on same line\n",
    "print('Hello','My','Name')\n",
    "#by default newline\n",
    "\n",
    "print('Hello','My','Name',end='|')\n",
    "print(\"hello\")\n"
   ]
  },
  {
   "cell_type": "code",
   "execution_count": null,
   "metadata": {},
   "outputs": [],
   "source": [
    "#variable name\n",
    "9Hello #invalid\n",
    "hello 9 #invalid\n"
   ]
  },
  {
   "cell_type": "code",
   "execution_count": 8,
   "metadata": {},
   "outputs": [
    {
     "name": "stdout",
     "output_type": "stream",
     "text": [
      "hii\n"
     ]
    }
   ],
   "source": [
    "name= input('Name: ')\n",
    "print(name)"
   ]
  },
  {
   "cell_type": "code",
   "execution_count": 9,
   "metadata": {},
   "outputs": [
    {
     "name": "stdout",
     "output_type": "stream",
     "text": [
      "2.5\n"
     ]
    }
   ],
   "source": [
    "x=9\n",
    "y=3.6\n",
    "res=x+y\n",
    "div=x/y\n",
    "print(div)"
   ]
  },
  {
   "cell_type": "code",
   "execution_count": 19,
   "metadata": {},
   "outputs": [
    {
     "name": "stdout",
     "output_type": "stream",
     "text": [
      "HELLO\n",
      "<class 'str'>\n",
      "1\n",
      "HELLO Mike\n",
      "True\n",
      "97\n"
     ]
    }
   ],
   "source": [
    "hello=\"hello\".upper()\n",
    "print(hello)\n",
    "print(type(hello))\n",
    "print(hello.count('LL'))\n",
    "x=' Mike'\n",
    "print(hello + x)\n",
    "\n",
    "print(hello>x)\n",
    "print(ord('a'))\n"
   ]
  },
  {
   "cell_type": "code",
   "execution_count": 21,
   "metadata": {},
   "outputs": [
    {
     "name": "stdout",
     "output_type": "stream",
     "text": [
      "jj\n"
     ]
    }
   ],
   "source": [
    "x=input('Name: ')\n",
    "if x=='Faisal':\n",
    "    print(\"jj\")\n",
    "elif x=='jojo':\n",
    "    print('jjj')"
   ]
  },
  {
   "cell_type": "code",
   "execution_count": 27,
   "metadata": {},
   "outputs": [
    {
     "name": "stdout",
     "output_type": "stream",
     "text": [
      "4\n",
      "[4, True, 'hi', 'Jojo', 4, 6, 5, 6, 7]\n",
      "[True, 'hi', 'Jojo', 4, 6, 5, 6, 7]\n",
      "['jai', 'hi', 'Jojo', 4, 6, 5, 6, 7]\n"
     ]
    }
   ],
   "source": [
    "#lists\n",
    "x=[4,True, 'hi']\n",
    "x.append('Jojo')\n",
    "print(len(x))\n",
    "x.extend([4,6,5,6,7])\n",
    "print(x)\n",
    "\n",
    "x.pop(0) #1st index remove\n",
    "print(x)\n",
    "x[0]='jai'\n",
    "print(x)"
   ]
  },
  {
   "cell_type": "code",
   "execution_count": 30,
   "metadata": {},
   "outputs": [
    {
     "name": "stdout",
     "output_type": "stream",
     "text": [
      "(0, 0, 3, 4)\n"
     ]
    }
   ],
   "source": [
    "#Tuples : they are immutable(not changable)\n",
    "x=(0,0,3,4)\n",
    "print(x)\n",
    "#x[0]=9\n"
   ]
  },
  {
   "cell_type": "code",
   "execution_count": 31,
   "metadata": {},
   "outputs": [
    {
     "name": "stdout",
     "output_type": "stream",
     "text": [
      "0\n",
      "1\n",
      "2\n",
      "3\n",
      "4\n",
      "5\n",
      "6\n",
      "7\n",
      "8\n",
      "9\n"
     ]
    }
   ],
   "source": [
    "#for loop\n",
    "for i in range(10):\n",
    "    print(i)\n",
    "\n",
    "stop #range (10)\n",
    "start, stop #range(1,10)\n",
    "start,stop,step #range(1,10,2)\n"
   ]
  },
  {
   "cell_type": "code",
   "execution_count": 34,
   "metadata": {},
   "outputs": [
    {
     "name": "stdout",
     "output_type": "stream",
     "text": [
      "run\n",
      "run\n",
      "run\n",
      "run\n",
      "run\n",
      "run\n",
      "run\n",
      "run\n",
      "run\n",
      "run\n"
     ]
    }
   ],
   "source": [
    "x=[2,3,4,5,6,7]\n",
    "i=0\n",
    "while i<10:\n",
    "    print('run')\n",
    "    i+=1\n",
    "   "
   ]
  },
  {
   "cell_type": "code",
   "execution_count": 40,
   "metadata": {},
   "outputs": [
    {
     "name": "stdout",
     "output_type": "stream",
     "text": [
      "[3]\n"
     ]
    }
   ],
   "source": [
    "#slice operator\n",
    "\n",
    "x=[0,3,2,4,4]\n",
    "sliced = x[1:3:2]\n",
    "print(sliced)"
   ]
  },
  {
   "cell_type": "code",
   "execution_count": 50,
   "metadata": {},
   "outputs": [
    {
     "name": "stdout",
     "output_type": "stream",
     "text": [
      "{2, 4, 5, 6, 7}\n",
      "{2, 4, 5, 6, 7, 8}\n",
      "{2, 4, 5, 6, 8}\n",
      "True\n"
     ]
    }
   ],
   "source": [
    "#set\n",
    "x=set()\n",
    "s= {4,5,6,7,7,2}\n",
    "print(s)\n",
    "s.add(8)\n",
    "print(s)\n",
    "s.remove(7)\n",
    "print(s)\n",
    "print(8 in s)\n"
   ]
  }
 ],
 "metadata": {
  "kernelspec": {
   "display_name": "Python 3",
   "language": "python",
   "name": "python3"
  },
  "language_info": {
   "codemirror_mode": {
    "name": "ipython",
    "version": 3
   },
   "file_extension": ".py",
   "mimetype": "text/x-python",
   "name": "python",
   "nbconvert_exporter": "python",
   "pygments_lexer": "ipython3",
   "version": "3.11.0 (main, Oct 24 2022, 18:26:48) [MSC v.1933 64 bit (AMD64)]"
  },
  "orig_nbformat": 4,
  "vscode": {
   "interpreter": {
    "hash": "d417a21d97a2e6b8832d21dc44f5cbe4be6e18325f874a8bb8484565b928cd54"
   }
  }
 },
 "nbformat": 4,
 "nbformat_minor": 2
}
