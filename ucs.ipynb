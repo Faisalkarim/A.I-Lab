{
 "cells": [
  {
   "cell_type": "code",
   "execution_count": 1,
   "metadata": {},
   "outputs": [
    {
     "name": "stdout",
     "output_type": "stream",
     "text": [
      "['A', 'C', 'F']\n"
     ]
    }
   ],
   "source": [
    "import heapq\n",
    "\n",
    "def ucs(graph, start, end):\n",
    "  # Create a priority queue and add the start node\n",
    "  queue = [(0, [start])]\n",
    "  visited = set()\n",
    "  \n",
    "  # Loop until the queue is empty\n",
    "  while queue:\n",
    "    # Get the node with the lowest cost\n",
    "    (cost, path) = heapq.heappop(queue)\n",
    "    \n",
    "    # Get the last node in the path\n",
    "    vertex = path[-1]\n",
    "    \n",
    "    # Check if this is the end node\n",
    "    if vertex == end:\n",
    "      return path\n",
    "    \n",
    "    # Skip the node if it has already been visited\n",
    "    if vertex in visited:\n",
    "      continue\n",
    "    visited.add(vertex)\n",
    "    \n",
    "    # Add all the neighbors of the current node to the queue\n",
    "    for neighbor in graph[vertex]:\n",
    "      if neighbor not in visited:\n",
    "        queue.append((cost + graph[vertex][neighbor], path + [neighbor]))\n",
    "  return None\n",
    "\n",
    "# Example usage\n",
    "graph = {\n",
    "  'A': {'B': 5, 'C': 1},\n",
    "  'B': {'A': 5, 'D': 2, 'E': 2},\n",
    "  'C': {'A': 1, 'F': 4},\n",
    "  'D': {'B': 2},\n",
    "  'E': {'B': 2, 'F': 3},\n",
    "  'F': {'C': 4, 'E': 3}\n",
    "}\n",
    "print(ucs(graph, 'A', 'F'))  # ['A', 'C', 'F']\n"
   ]
  },
  {
   "cell_type": "code",
   "execution_count": null,
   "metadata": {},
   "outputs": [],
   "source": [
    "from collections import deque\n",
    "\n",
    "def uniform_cost_search(graph, start, goal):\n",
    "    # Keep track of the number of nodes visited\n",
    "    node_count = 0\n",
    "\n",
    "    # Create a queue to store the nodes to be explored\n",
    "    queue = deque([(start, 0)])\n",
    "\n",
    "    # Create a set to store the visited nodes\n",
    "    visited = set()\n",
    "\n",
    "    # While there are nodes in the queue\n",
    "    while queue:\n",
    "        # Get the next node to explore\n",
    "        node, cost = queue.popleft()\n",
    "\n",
    "        # If the node has not been visited\n",
    "        if node not in visited:\n",
    "            # Mark the node as visited\n",
    "            visited.add(node)\n",
    "\n",
    "            # Increment the node count\n",
    "            node_count += 1\n",
    "\n",
    "            # If the node is the goal, return the cost\n",
    "            if node == goal:\n",
    "                return cost\n",
    "\n",
    "            # Add the neighbors of the node to the queue\n",
    "            for neighbor, neighbor_cost in graph[node]:\n",
    "                queue.append((neighbor, cost + neighbor_cost))\n",
    "\n",
    "    # If the goal was not reached, return -1\n",
    "    return -1\n",
    "\n",
    "# Example usage\n",
    "graph = {\n",
    "    'A': [('B', 10), ('C', 3)],\n",
    "    'B': [('C', 1), ('D', 2)],\n",
    "    'C': [('B', 4), ('D', 8), ('E', 2)],\n",
    "    'D': [('E', 7)],\n",
    "    'E': [('D', 9)],\n",
    "}\n",
    "\n",
    "start = 'A'\n",
    "goal = 'D'\n",
    "\n",
    "cost = uniform_cost_search(graph, start, goal)\n",
    "print(f'The cost from {start} to {goal} is {cost}')\n"
   ]
  }
 ],
 "metadata": {
  "kernelspec": {
   "display_name": "Python 3",
   "language": "python",
   "name": "python3"
  },
  "language_info": {
   "codemirror_mode": {
    "name": "ipython",
    "version": 3
   },
   "file_extension": ".py",
   "mimetype": "text/x-python",
   "name": "python",
   "nbconvert_exporter": "python",
   "pygments_lexer": "ipython3",
   "version": "3.11.0"
  },
  "orig_nbformat": 4,
  "vscode": {
   "interpreter": {
    "hash": "d417a21d97a2e6b8832d21dc44f5cbe4be6e18325f874a8bb8484565b928cd54"
   }
  }
 },
 "nbformat": 4,
 "nbformat_minor": 2
}
