{
 "cells": [
  {
   "cell_type": "code",
   "execution_count": 2,
   "metadata": {},
   "outputs": [
    {
     "ename": "KeyError",
     "evalue": "'A'",
     "output_type": "error",
     "traceback": [
      "\u001b[1;31m---------------------------------------------------------------------------\u001b[0m",
      "\u001b[1;31mKeyError\u001b[0m                                  Traceback (most recent call last)",
      "Cell \u001b[1;32mIn [2], line 35\u001b[0m\n\u001b[0;32m     33\u001b[0m \u001b[39m# Example usage\u001b[39;00m\n\u001b[0;32m     34\u001b[0m graph \u001b[39m=\u001b[39m {\u001b[39m'\u001b[39m\u001b[39mA\u001b[39m\u001b[39m'\u001b[39m: {\u001b[39m'\u001b[39m\u001b[39mB\u001b[39m\u001b[39m'\u001b[39m: \u001b[39m5\u001b[39m, \u001b[39m'\u001b[39m\u001b[39mC\u001b[39m\u001b[39m'\u001b[39m: \u001b[39m10\u001b[39m}, \u001b[39m'\u001b[39m\u001b[39mB\u001b[39m\u001b[39m'\u001b[39m: {\u001b[39m'\u001b[39m\u001b[39mD\u001b[39m\u001b[39m'\u001b[39m: \u001b[39m15\u001b[39m}, \u001b[39m'\u001b[39m\u001b[39mC\u001b[39m\u001b[39m'\u001b[39m: {\u001b[39m'\u001b[39m\u001b[39mD\u001b[39m\u001b[39m'\u001b[39m: \u001b[39m20\u001b[39m}, \u001b[39m'\u001b[39m\u001b[39mD\u001b[39m\u001b[39m'\u001b[39m: {}}\n\u001b[1;32m---> 35\u001b[0m \u001b[39mprint\u001b[39m(simulated_annealing(graph, \u001b[39m'\u001b[39;49m\u001b[39mA\u001b[39;49m\u001b[39m'\u001b[39;49m, \u001b[39m'\u001b[39;49m\u001b[39mD\u001b[39;49m\u001b[39m'\u001b[39;49m, \u001b[39m100\u001b[39;49m, \u001b[39m0.001\u001b[39;49m))  \u001b[39m# ['A', 'C', 'D']\u001b[39;00m\n",
      "Cell \u001b[1;32mIn [2], line 22\u001b[0m, in \u001b[0;36msimulated_annealing\u001b[1;34m(graph, start, end, temperature, cooling_rate)\u001b[0m\n\u001b[0;32m     19\u001b[0m neighbor \u001b[39m=\u001b[39m random\u001b[39m.\u001b[39mchoice(\u001b[39mlist\u001b[39m(neighbors))\n\u001b[0;32m     21\u001b[0m \u001b[39m# Calculate the difference in values between the current node and the neighbor\u001b[39;00m\n\u001b[1;32m---> 22\u001b[0m delta_e \u001b[39m=\u001b[39m graph[current][neighbor] \u001b[39m-\u001b[39m graph[current][current]\n\u001b[0;32m     24\u001b[0m \u001b[39m# Check if the neighbor has a higher value or if the move is accepted based on the temperature\u001b[39;00m\n\u001b[0;32m     25\u001b[0m \u001b[39mif\u001b[39;00m delta_e \u001b[39m>\u001b[39m \u001b[39m0\u001b[39m \u001b[39mor\u001b[39;00m math\u001b[39m.\u001b[39mexp(delta_e \u001b[39m/\u001b[39m temperature) \u001b[39m>\u001b[39m random\u001b[39m.\u001b[39muniform(\u001b[39m0\u001b[39m, \u001b[39m1\u001b[39m):\n",
      "\u001b[1;31mKeyError\u001b[0m: 'A'"
     ]
    }
   ],
   "source": [
    "import random\n",
    "import math\n",
    "\n",
    "def simulated_annealing(graph, start, end, temperature, cooling_rate):\n",
    "  # Set the current node to the start node\n",
    "  current = start\n",
    "  path = [current]\n",
    "  \n",
    "  # Loop until the temperature is 0\n",
    "  while temperature > 0:\n",
    "    # Get the neighbors of the current node\n",
    "    neighbors = graph[current]\n",
    "    \n",
    "    # Check if there are no neighbors\n",
    "    if not neighbors:\n",
    "      return None\n",
    "    \n",
    "    # Choose a random neighbor\n",
    "    neighbor = random.choice(list(neighbors))\n",
    "    \n",
    "    # Calculate the difference in values between the current node and the neighbor\n",
    "    delta_e = graph[current][neighbor] - graph[current][current]\n",
    "    \n",
    "    # Check if the neighbor has a higher value or if the move is accepted based on the temperature\n",
    "    if delta_e > 0 or math.exp(delta_e / temperature) > random.uniform(0, 1):\n",
    "      current = neighbor\n",
    "      path.append(current)\n",
    "    \n",
    "    # Cool the temperature\n",
    "    temperature *= 1 - cooling_rate\n",
    "  return path\n",
    "\n",
    "# Example usage\n",
    "graph = {'A': {'B': 5, 'C': 10}, 'B': {'D': 15}, 'C': {'D': 20}, 'D': {}}\n",
    "print(simulated_annealing(graph, 'A', 'D', 100, 0.001))  # ['A', 'C', 'D']\n"
   ]
  }
 ],
 "metadata": {
  "kernelspec": {
   "display_name": "Python 3",
   "language": "python",
   "name": "python3"
  },
  "language_info": {
   "codemirror_mode": {
    "name": "ipython",
    "version": 3
   },
   "file_extension": ".py",
   "mimetype": "text/x-python",
   "name": "python",
   "nbconvert_exporter": "python",
   "pygments_lexer": "ipython3",
   "version": "3.11.0 (main, Oct 24 2022, 18:26:48) [MSC v.1933 64 bit (AMD64)]"
  },
  "orig_nbformat": 4,
  "vscode": {
   "interpreter": {
    "hash": "d417a21d97a2e6b8832d21dc44f5cbe4be6e18325f874a8bb8484565b928cd54"
   }
  }
 },
 "nbformat": 4,
 "nbformat_minor": 2
}
