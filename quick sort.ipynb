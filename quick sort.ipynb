{
 "cells": [
  {
   "cell_type": "code",
   "execution_count": 1,
   "metadata": {},
   "outputs": [
    {
     "name": "stdout",
     "output_type": "stream",
     "text": [
      "[1, 2, 3, 4, 5, 6, 7, 8, 9]\n"
     ]
    }
   ],
   "source": [
    "def partition(arr, low, high):\n",
    "  # Choose the pivot element\n",
    "  pivot = arr[high]\n",
    "  \n",
    "  # Set the index for the smaller element\n",
    "  i = low - 1\n",
    "  \n",
    "  # Loop through the array and partition it around the pivot\n",
    "  for j in range(low, high):\n",
    "    if arr[j] < pivot:\n",
    "      i += 1\n",
    "      arr[i], arr[j] = arr[j], arr[i]\n",
    "  arr[i + 1], arr[high] = arr[high], arr[i + 1]\n",
    "  return i + 1\n",
    "\n",
    "def quick_sort(arr, low, high):\n",
    "  if low < high:\n",
    "    # Partition the array and get the pivot index\n",
    "    pivot = partition(arr, low, high)\n",
    "    \n",
    "    # Sort the left and right halves of the array\n",
    "    quick_sort(arr, low, pivot - 1)\n",
    "    quick_sort(arr, pivot + 1, high)\n",
    "\n",
    "# Example usage\n",
    "arr = [5, 2, 9, 1, 3, 8, 4, 7, 6]\n",
    "quick_sort(arr, 0, len(arr) - 1)\n",
    "print(arr)  # [1, 2, 3, 4, 5, 6, 7, 8, 9]\n"
   ]
  }
 ],
 "metadata": {
  "kernelspec": {
   "display_name": "Python 3",
   "language": "python",
   "name": "python3"
  },
  "language_info": {
   "codemirror_mode": {
    "name": "ipython",
    "version": 3
   },
   "file_extension": ".py",
   "mimetype": "text/x-python",
   "name": "python",
   "nbconvert_exporter": "python",
   "pygments_lexer": "ipython3",
   "version": "3.11.0"
  },
  "orig_nbformat": 4,
  "vscode": {
   "interpreter": {
    "hash": "d417a21d97a2e6b8832d21dc44f5cbe4be6e18325f874a8bb8484565b928cd54"
   }
  }
 },
 "nbformat": 4,
 "nbformat_minor": 2
}
