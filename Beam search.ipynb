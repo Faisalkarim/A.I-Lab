{
 "cells": [
  {
   "cell_type": "code",
   "execution_count": 1,
   "metadata": {},
   "outputs": [
    {
     "name": "stdout",
     "output_type": "stream",
     "text": [
      "['A', 'B', 'D', 'G']\n"
     ]
    }
   ],
   "source": [
    "import heapq\n",
    "\n",
    "def beam_search(graph, start, end, beam_width):\n",
    "  # Create a priority queue and add the start node\n",
    "  queue = [(0, [start])]\n",
    "  visited = set()\n",
    "  \n",
    "  # Loop until the queue is empty\n",
    "  while queue:\n",
    "    # Get the node with the lowest heuristic value\n",
    "    (cost, path) = heapq.heappop(queue)\n",
    "    \n",
    "    # Get the last node in the path\n",
    "    vertex = path[-1]\n",
    "    \n",
    "    # Check if this is the end node\n",
    "    if vertex == end:\n",
    "      return path\n",
    "    \n",
    "    # Skip the node if it has already been visited\n",
    "    if vertex in visited:\n",
    "      continue\n",
    "    visited.add(vertex)\n",
    "    \n",
    "    # Add all the neighbors of the current node to the queue\n",
    "    for neighbor in graph[vertex]:\n",
    "      if neighbor not in visited:\n",
    "        queue.append((len(queue), path + [neighbor]))\n",
    "    \n",
    "    # Keep only the top beam_width nodes in the queue\n",
    "    queue = queue[:beam_width]\n",
    "  return None\n",
    "\n",
    "# Example usage\n",
    "graph = {'A': ['B', 'C'], 'B': ['D', 'E'], 'C': ['F'], 'D': ['G'], 'E': ['G'], 'F': ['G'], 'G': []}\n",
    "print(beam_search(graph, 'A', 'G', 2))  # ['A', 'B', 'D', 'G']\n"
   ]
  }
 ],
 "metadata": {
  "kernelspec": {
   "display_name": "Python 3",
   "language": "python",
   "name": "python3"
  },
  "language_info": {
   "codemirror_mode": {
    "name": "ipython",
    "version": 3
   },
   "file_extension": ".py",
   "mimetype": "text/x-python",
   "name": "python",
   "nbconvert_exporter": "python",
   "pygments_lexer": "ipython3",
   "version": "3.11.0"
  },
  "orig_nbformat": 4,
  "vscode": {
   "interpreter": {
    "hash": "d417a21d97a2e6b8832d21dc44f5cbe4be6e18325f874a8bb8484565b928cd54"
   }
  }
 },
 "nbformat": 4,
 "nbformat_minor": 2
}
