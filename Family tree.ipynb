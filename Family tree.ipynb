{
 "cells": [
  {
   "cell_type": "code",
   "execution_count": 1,
   "id": "2f75ac01",
   "metadata": {},
   "outputs": [
    {
     "name": "stdout",
     "output_type": "stream",
     "text": [
      "Collecting anytree\n",
      "  Downloading anytree-2.8.0-py2.py3-none-any.whl (41 kB)\n",
      "     -------------------------------------- 41.7/41.7 kB 507.7 kB/s eta 0:00:00\n",
      "Requirement already satisfied: six>=1.9.0 in c:\\users\\user\\appdata\\local\\programs\\python\\python311\\lib\\site-packages (from anytree) (1.16.0)\n",
      "Installing collected packages: anytree\n",
      "Successfully installed anytree-2.8.0\n",
      "Note: you may need to restart the kernel to use updated packages.\n"
     ]
    },
    {
     "name": "stderr",
     "output_type": "stream",
     "text": [
      "\n",
      "[notice] A new release of pip available: 22.3 -> 22.3.1\n",
      "[notice] To update, run: python.exe -m pip install --upgrade pip\n"
     ]
    }
   ],
   "source": [
    "pip install anytree\n"
   ]
  },
  {
   "cell_type": "code",
   "execution_count": 3,
   "id": "41ebd054",
   "metadata": {},
   "outputs": [],
   "source": [
    "from anytree import Node, RenderTree\n",
    "\n",
    "X = Node(\"X\")\n",
    "Y = Node(\"Y\")\n"
   ]
  },
  {
   "cell_type": "code",
   "execution_count": 9,
   "id": "c500feb1",
   "metadata": {},
   "outputs": [
    {
     "name": "stdout",
     "output_type": "stream",
     "text": [
      "Node('/X')\n"
     ]
    }
   ],
   "source": [
    "\n",
    "A = Node(\"A\", parent=Y)\n",
    "A = Node(\"A\", parent=X)\n",
    "C = Node(\"C\", parent=A)\n",
    "D = Node(\"D\", parent=A)\n",
    "E = Node(\"E\", parent=C)\n",
    "B = Node(\"B\", parent=Y)\n",
    "F = Node(\"F\", parent=B)\n",
    "\n",
    "\n",
    "\n",
    "print(A.parent)\n"
   ]
  },
  {
   "cell_type": "code",
   "execution_count": null,
   "id": "c2d6510f",
   "metadata": {},
   "outputs": [],
   "source": []
  },
  {
   "cell_type": "code",
   "execution_count": null,
   "id": "0778df5e",
   "metadata": {},
   "outputs": [],
   "source": []
  }
 ],
 "metadata": {
  "kernelspec": {
   "display_name": "Python 3 (ipykernel)",
   "language": "python",
   "name": "python3"
  },
  "language_info": {
   "codemirror_mode": {
    "name": "ipython",
    "version": 3
   },
   "file_extension": ".py",
   "mimetype": "text/x-python",
   "name": "python",
   "nbconvert_exporter": "python",
   "pygments_lexer": "ipython3",
   "version": "3.11.0"
  }
 },
 "nbformat": 4,
 "nbformat_minor": 5
}
