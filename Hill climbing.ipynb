{
 "cells": [
  {
   "cell_type": "code",
   "execution_count": 1,
   "metadata": {},
   "outputs": [
    {
     "name": "stdout",
     "output_type": "stream",
     "text": [
      "['A', 'C', 'D']\n"
     ]
    }
   ],
   "source": [
    "def hill_climbing(graph, start, end):\n",
    "  # Set the current node to the start node\n",
    "  current = start\n",
    "  path = [current]\n",
    "  \n",
    "  # Loop until the current node is the end node\n",
    "  while current != end:\n",
    "    # Get the neighbors of the current node\n",
    "    neighbors = graph[current]\n",
    "    \n",
    "    # Check if there are no neighbors\n",
    "    if not neighbors:\n",
    "      return None\n",
    "    \n",
    "    # Find the neighbor with the highest value\n",
    "    neighbor = max(neighbors, key=lambda x: graph[current][x])\n",
    "    \n",
    "    # Set the current node to the neighbor with the highest value\n",
    "    current = neighbor\n",
    "    path.append(current)\n",
    "  return path\n",
    "\n",
    "# Example usage\n",
    "graph = {'A': {'B': 5, 'C': 10}, 'B': {'D': 15}, 'C': {'D': 20}, 'D': {}}\n",
    "print(hill_climbing(graph, 'A', 'D'))  # ['A', 'C', 'D']\n"
   ]
  }
 ],
 "metadata": {
  "kernelspec": {
   "display_name": "Python 3",
   "language": "python",
   "name": "python3"
  },
  "language_info": {
   "codemirror_mode": {
    "name": "ipython",
    "version": 3
   },
   "file_extension": ".py",
   "mimetype": "text/x-python",
   "name": "python",
   "nbconvert_exporter": "python",
   "pygments_lexer": "ipython3",
   "version": "3.11.0 (main, Oct 24 2022, 18:26:48) [MSC v.1933 64 bit (AMD64)]"
  },
  "orig_nbformat": 4,
  "vscode": {
   "interpreter": {
    "hash": "d417a21d97a2e6b8832d21dc44f5cbe4be6e18325f874a8bb8484565b928cd54"
   }
  }
 },
 "nbformat": 4,
 "nbformat_minor": 2
}
