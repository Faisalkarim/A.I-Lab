{
 "cells": [
  {
   "cell_type": "code",
   "execution_count": 2,
   "metadata": {},
   "outputs": [],
   "source": [
    "from queue import Queue\n",
    "adj_list ={\n",
    "    \"A\":[\"B\",'D'],\n",
    "    \"B\":[\"A\",\"C\"],\n",
    "    \"C\":[\"B\"],\n",
    "    \"D\":[\"A\",\"E\",\"F\"],\n",
    "    \"E\":[\"D\",\"F\",\"G\"],\n",
    "    \"F\":[\"D\",\"E\",\"H\"],\n",
    "    \"G\":[\"E\",\"H\"],\n",
    "    \"H\":[\"G\",\"F\"]\n",
    "}\n"
   ]
  },
  {
   "cell_type": "code",
   "execution_count": 4,
   "metadata": {},
   "outputs": [
    {
     "name": "stdout",
     "output_type": "stream",
     "text": [
      "['A', 'B', 'D', 'C', 'E', 'F', 'G', 'H']\n"
     ]
    }
   ],
   "source": [
    "#BFS CODE\n",
    "#initialize dictionary\n",
    "visited ={}\n",
    "level={}\n",
    "parent={}\n",
    "bfs_traversal_output=[]\n",
    "queue =Queue()\n",
    "\n",
    "for node in adj_list.keys():\n",
    "    visited[node]=False\n",
    "    parent[node]=None\n",
    "    level[node]=-1 #inf\n",
    "\n",
    "#node create\n",
    "s=\"A\" \n",
    "visited[s]=True\n",
    "level[s]=0\n",
    "queue.put(s)\n",
    "\n",
    "while not queue.empty():\n",
    "    u= queue.get()\n",
    "    bfs_traversal_output.append(u)\n",
    "\n",
    "    for v in adj_list[u]:\n",
    "        if not visited[v]:\n",
    "            visited[v]=True\n",
    "            parent[v]=u\n",
    "            level[v]=level[u]+1\n",
    "            queue.put(v)\n",
    "print(bfs_traversal_output)\n",
    "\n"
   ]
  },
  {
   "cell_type": "code",
   "execution_count": 6,
   "metadata": {},
   "outputs": [
    {
     "name": "stdout",
     "output_type": "stream",
     "text": [
      "3\n"
     ]
    }
   ],
   "source": [
    "#shortest distance of all nodes from source node\n",
    "#print(level)\n",
    "print(level[\"G\"])"
   ]
  },
  {
   "cell_type": "code",
   "execution_count": 9,
   "metadata": {},
   "outputs": [
    {
     "name": "stdout",
     "output_type": "stream",
     "text": [
      "['A', 'D', 'E', 'G']\n"
     ]
    }
   ],
   "source": [
    "#shortest path from any node from source node\n",
    "v=\"G\"\n",
    "path=[]\n",
    "while v is not None:\n",
    "    path.append(v)\n",
    "    v=parent[v]\n",
    "path.reverse()\n",
    "print(path)\n"
   ]
  }
 ],
 "metadata": {
  "kernelspec": {
   "display_name": "Python 3.11.0 64-bit",
   "language": "python",
   "name": "python3"
  },
  "language_info": {
   "codemirror_mode": {
    "name": "ipython",
    "version": 3
   },
   "file_extension": ".py",
   "mimetype": "text/x-python",
   "name": "python",
   "nbconvert_exporter": "python",
   "pygments_lexer": "ipython3",
   "version": "3.11.0 (main, Oct 24 2022, 18:26:48) [MSC v.1933 64 bit (AMD64)]"
  },
  "orig_nbformat": 4,
  "vscode": {
   "interpreter": {
    "hash": "d417a21d97a2e6b8832d21dc44f5cbe4be6e18325f874a8bb8484565b928cd54"
   }
  }
 },
 "nbformat": 4,
 "nbformat_minor": 2
}
