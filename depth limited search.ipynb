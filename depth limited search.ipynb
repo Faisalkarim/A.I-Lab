{
 "cells": [
  {
   "cell_type": "code",
   "execution_count": 2,
   "metadata": {},
   "outputs": [
    {
     "name": "stdout",
     "output_type": "stream",
     "text": [
      "['A', 'B', 'D', 'G']\n",
      "None\n"
     ]
    }
   ],
   "source": [
    "def depth_limited_search(graph, start, end, depth_limit):\n",
    "  # Check if the depth limit has been reached\n",
    "  if depth_limit == 0:\n",
    "    return None\n",
    "  \n",
    "  # Check if the start node is the end node\n",
    "  if start == end:\n",
    "    return [end]\n",
    "  \n",
    "  # Recursively search the neighbors\n",
    "  for neighbor in graph[start]:\n",
    "    path = depth_limited_search(graph, neighbor, end, depth_limit - 1)\n",
    "    if path is not None:\n",
    "      return [start] + path\n",
    "  return None\n",
    "\n",
    "# Example usage\n",
    "graph = {'A': ['B', 'C'], 'B': ['D', 'E'], 'C': ['F'], 'D': ['G'], 'E': ['G'], 'F': ['G'], 'G': []}\n",
    "print(depth_limited_search(graph, 'A', 'G', 5))  # ['A', 'B', 'D', 'G']\n",
    "print(depth_limited_search(graph, 'A', 'G', 2))  # None\n"
   ]
  }
 ],
 "metadata": {
  "kernelspec": {
   "display_name": "Python 3",
   "language": "python",
   "name": "python3"
  },
  "language_info": {
   "codemirror_mode": {
    "name": "ipython",
    "version": 3
   },
   "file_extension": ".py",
   "mimetype": "text/x-python",
   "name": "python",
   "nbconvert_exporter": "python",
   "pygments_lexer": "ipython3",
   "version": "3.11.0"
  },
  "orig_nbformat": 4,
  "vscode": {
   "interpreter": {
    "hash": "d417a21d97a2e6b8832d21dc44f5cbe4be6e18325f874a8bb8484565b928cd54"
   }
  }
 },
 "nbformat": 4,
 "nbformat_minor": 2
}
