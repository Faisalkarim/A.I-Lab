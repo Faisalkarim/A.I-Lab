{
 "cells": [
  {
   "cell_type": "code",
   "execution_count": 1,
   "metadata": {},
   "outputs": [
    {
     "name": "stdout",
     "output_type": "stream",
     "text": [
      "[1, 2, 3, 4, 5, 6, 7, 8, 9]\n"
     ]
    }
   ],
   "source": [
    "def merge_sort(arr):\n",
    "  # Check if the array has more than one element\n",
    "  if len(arr) > 1:\n",
    "    # Split the array into left and right halves\n",
    "    mid = len(arr) // 2\n",
    "    left = arr[:mid]\n",
    "    right = arr[mid:]\n",
    "    \n",
    "    # Recursively sort the left and right halves\n",
    "    merge_sort(left)\n",
    "    merge_sort(right)\n",
    "    \n",
    "    # Merge the sorted halves\n",
    "    i = 0  # Index for the left half\n",
    "    j = 0  # Index for the right half\n",
    "    k = 0  # Index for the merged array\n",
    "    while i < len(left) and j < len(right):\n",
    "      # Compare the elements and add the smaller one to the merged array\n",
    "      if left[i] < right[j]:\n",
    "        arr[k] = left[i]\n",
    "        i += 1\n",
    "      else:\n",
    "        arr[k] = right[j]\n",
    "        j += 1\n",
    "      k += 1\n",
    "    \n",
    "    # Add any remaining elements from the left or right halves\n",
    "    while i < len(left):\n",
    "      arr[k] = left[i]\n",
    "      i += 1\n",
    "      k += 1\n",
    "    while j < len(right):\n",
    "      arr[k] = right[j]\n",
    "      j += 1\n",
    "      k += 1\n",
    "\n",
    "# Example usage\n",
    "arr = [5, 2, 9, 1, 3, 8, 4, 7, 6]\n",
    "merge_sort(arr)\n",
    "print(arr)  # [1, 2, 3, 4, 5, 6, 7, 8, 9]\n"
   ]
  }
 ],
 "metadata": {
  "kernelspec": {
   "display_name": "Python 3",
   "language": "python",
   "name": "python3"
  },
  "language_info": {
   "codemirror_mode": {
    "name": "ipython",
    "version": 3
   },
   "file_extension": ".py",
   "mimetype": "text/x-python",
   "name": "python",
   "nbconvert_exporter": "python",
   "pygments_lexer": "ipython3",
   "version": "3.11.0"
  },
  "orig_nbformat": 4,
  "vscode": {
   "interpreter": {
    "hash": "d417a21d97a2e6b8832d21dc44f5cbe4be6e18325f874a8bb8484565b928cd54"
   }
  }
 },
 "nbformat": 4,
 "nbformat_minor": 2
}
