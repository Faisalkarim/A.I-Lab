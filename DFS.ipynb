{
 "cells": [
  {
   "cell_type": "code",
   "execution_count": null,
   "metadata": {},
   "outputs": [],
   "source": [
    "from collections import deque\n",
    "adj_list ={\n",
    "    \"A\":[\"B\",'D'],\n",
    "    \"B\":[\"A\",\"C\"],\n",
    "    \"C\":[\"B\"],\n",
    "    \"D\":[\"A\",\"E\",\"F\"],\n",
    "    \"E\":[\"D\",\"F\",\"G\"],\n",
    "    \"F\":[\"D\",\"E\",\"H\"],\n",
    "    \"G\":[\"E\",\"H\"],\n",
    "    \"H\":[\"G\",\"F\"]\n",
    "}\n",
    "visited={}\n",
    "parent={}\n",
    "level={}\n",
    "sequence=[]\n",
    "stack= deque()\n",
    "\n",
    "s=\"A\"\n",
    "visited[s]=True\n",
    "parent[s]=None\n",
    "level[s]=0\n",
    "stack.append(s)\n",
    "\n",
    "while not stack.empty():\n",
    "    a=stack.pop()\n",
    "    +\n",
    "\n"
   ]
  }
 ],
 "metadata": {
  "kernelspec": {
   "display_name": "Python 3",
   "language": "python",
   "name": "python3"
  },
  "language_info": {
   "name": "python",
   "version": "3.11.0 (main, Oct 24 2022, 18:26:48) [MSC v.1933 64 bit (AMD64)]"
  },
  "orig_nbformat": 4,
  "vscode": {
   "interpreter": {
    "hash": "d417a21d97a2e6b8832d21dc44f5cbe4be6e18325f874a8bb8484565b928cd54"
   }
  }
 },
 "nbformat": 4,
 "nbformat_minor": 2
}
