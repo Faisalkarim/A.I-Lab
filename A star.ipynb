{
 "cells": [
  {
   "cell_type": "code",
   "execution_count": 1,
   "metadata": {},
   "outputs": [
    {
     "name": "stdout",
     "output_type": "stream",
     "text": [
      "[(0, 0), (1, 0), (1, 1), (2, 1)]\n"
     ]
    }
   ],
   "source": [
    "import heapq\n",
    "\n",
    "def a_star(graph, start, end, heuristic):\n",
    "  # Create a priority queue and add the start node\n",
    "  queue = [(heuristic(start, end), 0, [start])]\n",
    "  visited = set()\n",
    "  \n",
    "  # Loop until the queue is empty\n",
    "  while queue:\n",
    "    # Get the node with the lowest heuristic value\n",
    "    (cost, path_cost, path) = heapq.heappop(queue)\n",
    "    \n",
    "    # Get the last node in the path\n",
    "    vertex = path[-1]\n",
    "    \n",
    "    # Check if this is the end node\n",
    "    if vertex == end:\n",
    "      return path\n",
    "    \n",
    "    # Skip the node if it has already been visited\n",
    "    if vertex in visited:\n",
    "      continue\n",
    "    visited.add(vertex)\n",
    "    \n",
    "    # Add all the neighbors of the current node to the queue\n",
    "    for neighbor in graph[vertex]:\n",
    "      if neighbor not in visited:\n",
    "        queue.append((path_cost + graph[vertex][neighbor] + heuristic(neighbor, end),\n",
    "                      path_cost + graph[vertex][neighbor],\n",
    "                      path + [neighbor]))\n",
    "  return None\n",
    "\n",
    "# Example usage\n",
    "def euclidean_heuristic(a, b):\n",
    "  (x1, y1) = a\n",
    "  (x2, y2) = b\n",
    "  return ((x1 - x2) ** 2 + (y1 - y2) ** 2) ** 0.5\n",
    "\n",
    "graph = {\n",
    "  (0, 0): {(1, 0): 1, (0, 1): 1},\n",
    "  (1, 0): {(2, 0): 1, (1, 1): 1},\n",
    "  (2, 0): {(2, 1): 1},\n",
    "  (0, 1): {(1, 1): 1},\n",
    "  (1, 1): {(2, 1): 1}\n",
    "}\n",
    "print(a_star(graph, (0, 0), (2, 1), euclidean_heuristic))  # [(0, 0), (1, 0), (2, 0), (2, 1)]\n"
   ]
  }
 ],
 "metadata": {
  "kernelspec": {
   "display_name": "Python 3",
   "language": "python",
   "name": "python3"
  },
  "language_info": {
   "codemirror_mode": {
    "name": "ipython",
    "version": 3
   },
   "file_extension": ".py",
   "mimetype": "text/x-python",
   "name": "python",
   "nbconvert_exporter": "python",
   "pygments_lexer": "ipython3",
   "version": "3.11.0"
  },
  "orig_nbformat": 4,
  "vscode": {
   "interpreter": {
    "hash": "d417a21d97a2e6b8832d21dc44f5cbe4be6e18325f874a8bb8484565b928cd54"
   }
  }
 },
 "nbformat": 4,
 "nbformat_minor": 2
}
