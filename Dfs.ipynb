{
 "cells": [
  {
   "cell_type": "code",
   "execution_count": null,
   "metadata": {},
   "outputs": [],
   "source": [
    "def dfs(graph, start, end, path=[]):\n",
    "  # Add the start node to the path\n",
    "  path += [start]\n",
    "\n",
    "  # Check if this is the end node\n",
    "  if start == end:\n",
    "    return path\n",
    "  \n",
    "  # Recursively search the neighbors\n",
    "  for neighbor in graph[start]:\n",
    "    if neighbor not in path:\n",
    "      new_path = dfs(graph, neighbor, end, path)\n",
    "      if new_path:\n",
    "        return new_path\n",
    "  return None\n",
    "\n",
    "# Example usage\n",
    "graph = {'A': ['B', 'C'], 'B': ['A', 'D', 'E'], 'C': ['A', 'F'], 'D': ['B'], 'E': ['B', 'F'], 'F': ['C', 'E']}\n",
    "print(dfs(graph, 'A', 'F'))  # ['A', 'C', 'F']\n"
   ]
  }
 ],
 "metadata": {
  "language_info": {
   "name": "python"
  },
  "orig_nbformat": 4
 },
 "nbformat": 4,
 "nbformat_minor": 2
}
