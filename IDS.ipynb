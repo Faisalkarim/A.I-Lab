{
 "cells": [
  {
   "cell_type": "code",
   "execution_count": 5,
   "metadata": {},
   "outputs": [
    {
     "ename": "KeyboardInterrupt",
     "evalue": "",
     "output_type": "error",
     "traceback": [
      "\u001b[1;31m---------------------------------------------------------------------------\u001b[0m",
      "\u001b[1;31mKeyboardInterrupt\u001b[0m                         Traceback (most recent call last)",
      "Cell \u001b[1;32mIn [5], line 29\u001b[0m\n\u001b[0;32m     17\u001b[0m   \u001b[39mreturn\u001b[39;00m \u001b[39mNone\u001b[39;00m\n\u001b[0;32m     19\u001b[0m   graph \u001b[39m=\u001b[39m {\n\u001b[0;32m     20\u001b[0m   \u001b[39m'\u001b[39m\u001b[39mA\u001b[39m\u001b[39m'\u001b[39m: [\u001b[39m'\u001b[39m\u001b[39mB\u001b[39m\u001b[39m'\u001b[39m, \u001b[39m'\u001b[39m\u001b[39mC\u001b[39m\u001b[39m'\u001b[39m],\n\u001b[0;32m     21\u001b[0m   \u001b[39m'\u001b[39m\u001b[39mB\u001b[39m\u001b[39m'\u001b[39m: [\u001b[39m'\u001b[39m\u001b[39mD\u001b[39m\u001b[39m'\u001b[39m, \u001b[39m'\u001b[39m\u001b[39mE\u001b[39m\u001b[39m'\u001b[39m],\n\u001b[1;32m   (...)\u001b[0m\n\u001b[0;32m     26\u001b[0m   \u001b[39m'\u001b[39m\u001b[39mG\u001b[39m\u001b[39m'\u001b[39m: []\n\u001b[0;32m     27\u001b[0m }\n\u001b[1;32m---> 29\u001b[0m path \u001b[39m=\u001b[39m iterative_deepening_search(\u001b[39m'\u001b[39;49m\u001b[39mA\u001b[39;49m\u001b[39m'\u001b[39;49m, \u001b[39m'\u001b[39;49m\u001b[39mG\u001b[39;49m\u001b[39m'\u001b[39;49m, graph)\n\u001b[0;32m     30\u001b[0m \u001b[39mprint\u001b[39m(path)  \u001b[39m# prints ['A', 'C', 'G']\u001b[39;00m\n",
      "Cell \u001b[1;32mIn [5], line 3\u001b[0m, in \u001b[0;36miterative_deepening_search\u001b[1;34m(start, goal, graph)\u001b[0m\n\u001b[0;32m      1\u001b[0m \u001b[39mdef\u001b[39;00m \u001b[39miterative_deepening_search\u001b[39m(start, goal, graph):\n\u001b[0;32m      2\u001b[0m   \u001b[39mfor\u001b[39;00m depth \u001b[39min\u001b[39;00m \u001b[39mrange\u001b[39m(\u001b[39m0\u001b[39m, sys\u001b[39m.\u001b[39mmaxsize):\n\u001b[1;32m----> 3\u001b[0m     result \u001b[39m=\u001b[39m depth_limited_search(start, goal, depth, graph)\n\u001b[0;32m      4\u001b[0m     \u001b[39mif\u001b[39;00m result \u001b[39mis\u001b[39;00m \u001b[39mnot\u001b[39;00m \u001b[39mNone\u001b[39;00m:\n\u001b[0;32m      5\u001b[0m       \u001b[39mreturn\u001b[39;00m result\n",
      "Cell \u001b[1;32mIn [5], line 13\u001b[0m, in \u001b[0;36mdepth_limited_search\u001b[1;34m(node, goal, depth, graph)\u001b[0m\n\u001b[0;32m     11\u001b[0m \u001b[39mif\u001b[39;00m depth \u001b[39m>\u001b[39m \u001b[39m0\u001b[39m:\n\u001b[0;32m     12\u001b[0m   \u001b[39mfor\u001b[39;00m child \u001b[39min\u001b[39;00m graph[node]:\n\u001b[1;32m---> 13\u001b[0m     result \u001b[39m=\u001b[39m depth_limited_search(child, goal, depth\u001b[39m-\u001b[39;49m\u001b[39m1\u001b[39;49m, graph)\n\u001b[0;32m     14\u001b[0m     \u001b[39mif\u001b[39;00m result \u001b[39mis\u001b[39;00m \u001b[39mnot\u001b[39;00m \u001b[39mNone\u001b[39;00m:\n\u001b[0;32m     15\u001b[0m       result\u001b[39m.\u001b[39minsert(\u001b[39m0\u001b[39m, node)\n",
      "Cell \u001b[1;32mIn [5], line 13\u001b[0m, in \u001b[0;36mdepth_limited_search\u001b[1;34m(node, goal, depth, graph)\u001b[0m\n\u001b[0;32m     11\u001b[0m \u001b[39mif\u001b[39;00m depth \u001b[39m>\u001b[39m \u001b[39m0\u001b[39m:\n\u001b[0;32m     12\u001b[0m   \u001b[39mfor\u001b[39;00m child \u001b[39min\u001b[39;00m graph[node]:\n\u001b[1;32m---> 13\u001b[0m     result \u001b[39m=\u001b[39m depth_limited_search(child, goal, depth\u001b[39m-\u001b[39;49m\u001b[39m1\u001b[39;49m, graph)\n\u001b[0;32m     14\u001b[0m     \u001b[39mif\u001b[39;00m result \u001b[39mis\u001b[39;00m \u001b[39mnot\u001b[39;00m \u001b[39mNone\u001b[39;00m:\n\u001b[0;32m     15\u001b[0m       result\u001b[39m.\u001b[39minsert(\u001b[39m0\u001b[39m, node)\n",
      "    \u001b[1;31m[... skipping similar frames: depth_limited_search at line 13 (12 times)]\u001b[0m\n",
      "Cell \u001b[1;32mIn [5], line 13\u001b[0m, in \u001b[0;36mdepth_limited_search\u001b[1;34m(node, goal, depth, graph)\u001b[0m\n\u001b[0;32m     11\u001b[0m \u001b[39mif\u001b[39;00m depth \u001b[39m>\u001b[39m \u001b[39m0\u001b[39m:\n\u001b[0;32m     12\u001b[0m   \u001b[39mfor\u001b[39;00m child \u001b[39min\u001b[39;00m graph[node]:\n\u001b[1;32m---> 13\u001b[0m     result \u001b[39m=\u001b[39m depth_limited_search(child, goal, depth\u001b[39m-\u001b[39;49m\u001b[39m1\u001b[39;49m, graph)\n\u001b[0;32m     14\u001b[0m     \u001b[39mif\u001b[39;00m result \u001b[39mis\u001b[39;00m \u001b[39mnot\u001b[39;00m \u001b[39mNone\u001b[39;00m:\n\u001b[0;32m     15\u001b[0m       result\u001b[39m.\u001b[39minsert(\u001b[39m0\u001b[39m, node)\n",
      "Cell \u001b[1;32mIn [5], line 14\u001b[0m, in \u001b[0;36mdepth_limited_search\u001b[1;34m(node, goal, depth, graph)\u001b[0m\n\u001b[0;32m     12\u001b[0m \u001b[39mfor\u001b[39;00m child \u001b[39min\u001b[39;00m graph[node]:\n\u001b[0;32m     13\u001b[0m   result \u001b[39m=\u001b[39m depth_limited_search(child, goal, depth\u001b[39m-\u001b[39m\u001b[39m1\u001b[39m, graph)\n\u001b[1;32m---> 14\u001b[0m   \u001b[39mif\u001b[39;00m result \u001b[39mis\u001b[39;00m \u001b[39mnot\u001b[39;00m \u001b[39mNone\u001b[39;00m:\n\u001b[0;32m     15\u001b[0m     result\u001b[39m.\u001b[39minsert(\u001b[39m0\u001b[39m, node)\n\u001b[0;32m     16\u001b[0m     \u001b[39mreturn\u001b[39;00m result\n",
      "\u001b[1;31mKeyboardInterrupt\u001b[0m: "
     ]
    }
   ],
   "source": [
    "def iterative_deepening_search(start, goal, graph):\n",
    "  for depth in range(0, sys.maxsize):\n",
    "    result = depth_limited_search(start, goal, depth, graph)\n",
    "    if result is not None:\n",
    "      return result\n",
    "  return None\n",
    "\n",
    "def depth_limited_search(node, goal, depth, graph):\n",
    "  if depth == 0 and node == goal:\n",
    "    return []\n",
    "  if depth > 0:\n",
    "    for child in graph[node]:\n",
    "      result = depth_limited_search(child, goal, depth-1, graph)\n",
    "      if result is not None:\n",
    "        result.insert(0, node)\n",
    "        return result\n",
    "  return None\n",
    "\n",
    "  graph = {\n",
    "  'A': ['B', 'C'],\n",
    "  'B': ['D', 'E'],\n",
    "  'C': ['F', 'G'],\n",
    "  'D': [],\n",
    "  'E': [],\n",
    "  'F': [],\n",
    "  'G': []\n",
    "}\n",
    "\n",
    "path = iterative_deepening_search('A', 'G', graph)\n",
    "print(path)  # prints ['A', 'C', 'G']\n",
    "\n"
   ]
  }
 ],
 "metadata": {
  "kernelspec": {
   "display_name": "Python 3",
   "language": "python",
   "name": "python3"
  },
  "language_info": {
   "codemirror_mode": {
    "name": "ipython",
    "version": 3
   },
   "file_extension": ".py",
   "mimetype": "text/x-python",
   "name": "python",
   "nbconvert_exporter": "python",
   "pygments_lexer": "ipython3",
   "version": "3.11.0"
  },
  "orig_nbformat": 4,
  "vscode": {
   "interpreter": {
    "hash": "d417a21d97a2e6b8832d21dc44f5cbe4be6e18325f874a8bb8484565b928cd54"
   }
  }
 },
 "nbformat": 4,
 "nbformat_minor": 2
}
