{
 "cells": [
  {
   "cell_type": "code",
   "execution_count": 1,
   "metadata": {},
   "outputs": [
    {
     "name": "stdout",
     "output_type": "stream",
     "text": [
      "{0: {0: 0, 1: {1: {0: 0, 1: 1}}}}\n"
     ]
    }
   ],
   "source": [
    "import math\n",
    "from collections import Counter\n",
    "\n",
    "def entropy(labels):\n",
    "  # Count the frequency of each label\n",
    "  counts = Counter(labels)\n",
    "  \n",
    "  # Calculate the entropy\n",
    "  ent = 0\n",
    "  for label in counts:\n",
    "    prob = counts[label] / len(labels)\n",
    "    ent -= prob * math.log2(prob)\n",
    "  return ent\n",
    "\n",
    "def information_gain(X, y, feature):\n",
    "  # Split the data by the feature\n",
    "  groups = {}\n",
    "  for x, label in zip(X, y):\n",
    "    if x[feature] not in groups:\n",
    "      groups[x[feature]] = []\n",
    "    groups[x[feature]].append(label)\n",
    "  \n",
    "  # Calculate the information gain\n",
    "  gain = entropy(y)\n",
    "  for group in groups.values():\n",
    "    gain -= len(group) / len(y) * entropy(group)\n",
    "  return gain\n",
    "\n",
    "def id3(X, y, features):\n",
    "  # Check if all the labels are the same\n",
    "  if len(set(y)) == 1:\n",
    "    return y[0]\n",
    "  \n",
    "  # Check if there are no more features to split on\n",
    "  if not features:\n",
    "    return Counter(y).most_common()[0][0]\n",
    "  \n",
    "  # Choose the feature with the highest information gain\n",
    "  best_feature = max(features, key=lambda x: information_gain(X, y, x))\n",
    "  \n",
    "  # Build the decision tree\n",
    "  tree = {best_feature: {}}\n",
    "  for value in set(x[best_feature] for x in X):\n",
    "    sub_X = [x for x in X if x[best_feature] == value]\n",
    "    sub_y = [y for x, y in zip(X, y) if x[best_feature] == value]\n",
    "    tree[best_feature][value] = id3(sub_X, sub_y, features - {best_feature})\n",
    "  return tree\n",
    "\n",
    "# Example usage\n",
    "X = [[1, 1, 1], [1, 1, 0], [1, 0, 1], [0, 1, 0], [0, 1, 1]]\n",
    "y = [1, 1, 0, 0, 0]\n",
    "features = {0, 1, 2}\n",
    "print(id3(X, y, features))\n",
    "# {0: {1: {1: 1, 0: 0}, 0: 0}, 1: {1: {1: 1, 0: 0}, 0: {2: 0, 0: 1}}, 2: {1: 0, 0: 1}}\n"
   ]
  }
 ],
 "metadata": {
  "kernelspec": {
   "display_name": "Python 3",
   "language": "python",
   "name": "python3"
  },
  "language_info": {
   "codemirror_mode": {
    "name": "ipython",
    "version": 3
   },
   "file_extension": ".py",
   "mimetype": "text/x-python",
   "name": "python",
   "nbconvert_exporter": "python",
   "pygments_lexer": "ipython3",
   "version": "3.11.0"
  },
  "orig_nbformat": 4,
  "vscode": {
   "interpreter": {
    "hash": "d417a21d97a2e6b8832d21dc44f5cbe4be6e18325f874a8bb8484565b928cd54"
   }
  }
 },
 "nbformat": 4,
 "nbformat_minor": 2
}
